{
 "cells": [
  {
   "cell_type": "code",
   "execution_count": 153,
   "metadata": {},
   "outputs": [],
   "source": [
    "import  numpy as np\n",
    "import math\n",
    "import helper"
   ]
  },
  {
   "cell_type": "code",
   "execution_count": null,
   "metadata": {},
   "outputs": [],
   "source": []
  },
  {
   "cell_type": "code",
   "execution_count": 1,
   "metadata": {},
   "outputs": [
    {
     "ename": "FileNotFoundError",
     "evalue": "[Errno 2] No such file or directory: 'whatsapp_messages.txt'",
     "output_type": "error",
     "traceback": [
      "\u001b[1;31m---------------------------------------------------------------------------\u001b[0m",
      "\u001b[1;31mFileNotFoundError\u001b[0m                         Traceback (most recent call last)",
      "\u001b[1;32m<ipython-input-1-8223bbeb1c20>\u001b[0m in \u001b[0;36m<module>\u001b[1;34m()\u001b[0m\n\u001b[1;32m----> 1\u001b[1;33m \u001b[0mdata_file\u001b[0m \u001b[1;33m=\u001b[0m \u001b[0mopen\u001b[0m\u001b[1;33m(\u001b[0m\u001b[1;34m'whatsapp_messages.txt'\u001b[0m\u001b[1;33m,\u001b[0m \u001b[1;34m'r'\u001b[0m\u001b[1;33m)\u001b[0m\u001b[1;33m\u001b[0m\u001b[0m\n\u001b[0m\u001b[0;32m      2\u001b[0m \u001b[0mdata_string\u001b[0m \u001b[1;33m=\u001b[0m \u001b[0mdata_file\u001b[0m\u001b[1;33m.\u001b[0m\u001b[0mread\u001b[0m\u001b[1;33m(\u001b[0m\u001b[1;33m)\u001b[0m\u001b[1;33m\u001b[0m\u001b[0m\n\u001b[0;32m      3\u001b[0m \u001b[0mfull_data\u001b[0m \u001b[1;33m=\u001b[0m \u001b[0mdata_string\u001b[0m\u001b[1;33m.\u001b[0m\u001b[0msplit\u001b[0m\u001b[1;33m(\u001b[0m\u001b[1;34m'\\n'\u001b[0m\u001b[1;33m)\u001b[0m\u001b[1;31m#split according to the lines\u001b[0m\u001b[1;33m\u001b[0m\u001b[0m\n\u001b[0;32m      4\u001b[0m \u001b[0mintLength\u001b[0m \u001b[1;33m=\u001b[0m \u001b[0mlen\u001b[0m\u001b[1;33m(\u001b[0m\u001b[0mfull_data\u001b[0m\u001b[1;33m)\u001b[0m\u001b[1;33m\u001b[0m\u001b[0m\n\u001b[0;32m      5\u001b[0m \u001b[0mlabels\u001b[0m \u001b[1;33m=\u001b[0m \u001b[1;33m[\u001b[0m\u001b[1;33m]\u001b[0m\u001b[1;33m\u001b[0m\u001b[0m\n",
      "\u001b[1;31mFileNotFoundError\u001b[0m: [Errno 2] No such file or directory: 'whatsapp_messages.txt'"
     ]
    }
   ],
   "source": [
    "    data_file = open('whatsapp_messages.txt', 'r')\n",
    "    data_string = data_file.read()\n",
    "    full_data = data_string.split('\\n')#split according to the lines\n",
    "    intLength = len(full_data)\n",
    "    labels = []\n",
    "    for x in range(0,intLength , 1): # this can be changed depending on the data\n",
    "        line = full_data[x].split(' ') #split each line according to spaces\n",
    "        full_data[x] = line[1:] #store each split line array back into the original array creating a 2d array\n",
    "        labels.append(line[0])\n",
    "\n",
    "print(labels,full_data)"
   ]
  },
  {
   "cell_type": "code",
   "execution_count": 155,
   "metadata": {},
   "outputs": [
    {
     "name": "stdout",
     "output_type": "stream",
     "text": [
      "{'-1': 9, '1': 9}\n"
     ]
    }
   ],
   "source": [
    "def countOccurrences(labels):\n",
    "    distinct_labels = np.unique(labels)\n",
    "    dictLabelOccur = {}#dictionary\n",
    "    \n",
    "    for x in distinct_labels:#initialize dictionary\n",
    "        dictLabelOccur[x] = 0\n",
    "        \n",
    "    for x in labels:#count occurances\n",
    "        dictLabelOccur[x] += 1\n",
    "\n",
    "    return dictLabelOccur\n",
    "    \n",
    "    \n",
    "print(countOccurrences(labels))"
   ]
  },
  {
   "cell_type": "code",
   "execution_count": 156,
   "metadata": {},
   "outputs": [
    {
     "name": "stdout",
     "output_type": "stream",
     "text": [
      "{'-1': 0.5, '1': 0.5}\n"
     ]
    }
   ],
   "source": [
    "def getProbabilities(labels):\n",
    "    intLength = len(labels)\n",
    "    dictProbLabels = countOccurrences(labels)\n",
    "    for x in dictProbLabels:\n",
    "        dictProbLabels[x] /= intLength\n",
    "    return dictProbLabels\n",
    "\n",
    "print(getProbabilities(labels))"
   ]
  },
  {
   "cell_type": "markdown",
   "metadata": {},
   "source": [
    "###### "
   ]
  },
  {
   "cell_type": "code",
   "execution_count": 183,
   "metadata": {
    "tags": []
   },
   "outputs": [
    {
     "name": "stdout",
     "output_type": "stream",
     "text": [
      "{'buy': [0.4879227053140097, 0.24815724815724816], 'this': [0.4879227053140097, 0.24815724815724816], 'online': [0.4879227053140097, 0.24815724815724816], 'today': [0.4879227053140097, 0.7395577395577394], 'send': [0.4879227053140097, 0.7395577395577394], 'us': [0.4879227053140097, 0.24815724815724816], 'money': [0.4879227053140097, 0.7395577395577394]}\n"
     ]
    }
   ],
   "source": [
    "def getClassConditional(full_data,labels):\n",
    "    \n",
    "    #sum the data\n",
    "    #-----------------------------------------------------------------------------------------------------\n",
    "    distinct_labels = list(np.unique(labels))    #domain of labels\n",
    "    intDistinctLabels = len(distinct_labels)     #cardinality of domain of labels\n",
    "    dictClassConditionalModel = {}               #initialize dictionary\n",
    "    intNumLines = len(full_data)                 #number of lines/messages in the data provided\n",
    "    for x in range(0,intNumLines,1):#use range for loop instead of itemized because indecies will be usefull inside\n",
    "        line = full_data[x]\n",
    "        for word in line:\n",
    "            if(word in dictClassConditionalModel):\n",
    "                dictClassConditionalModel[word][distinct_labels.index(labels[x])] += 1 #only add to the index of the label that this word has been found at\n",
    "            else:#every time a new words is found\n",
    "                dictClassConditionalModel[word] = [0]*intDistinctLabels #each word will have an array of the sum of occurences of each word given each label  #{word|label}\n",
    "                dictClassConditionalModel[word][distinct_labels.index(labels[x])] += 1 #only add to the index of the label that this word has been found at\n",
    "\n",
    "    #-------------------------------------------------------------------------------------------------\n",
    "    \n",
    "    #calculate probabilities with laplace smoothing\n",
    "    #please consult https://www.youtube.com/watch?v=gCI-ZC7irbY and https://www.youtube.com/watch?v=jSaU_iDB1Ds \n",
    "    #if laplace smoothing is being a problem\n",
    "    #---------------------------------------------------------------------------------------------------\n",
    "    dictLabelOccur = countOccurrences(labels)\n",
    "    k = 0.01\n",
    "    intNumWords = len(dictClassConditionalModel)#total number of distinct words\n",
    "    for word in dictClassConditionalModel:\n",
    "        for label in dictLabelOccur: \n",
    "                Prob = dictClassConditionalModel[word][distinct_labels.index(label)] \n",
    "                Prob += k\n",
    "                Prob /= dictLabelOccur[label] + (k*intNumWords )#k*total number of distinct words that a variable can take(cardinality of domain of words)\n",
    "                dictClassConditionalModel[word][distinct_labels.index(label)] = Prob\n",
    "    key = distinct_labels#this key array will be used to get the index of each probability in the other variable\n",
    "    #---------------------------------------------------------------------------------------------------\n",
    "    return (dictClassConditionalModel,key)\n",
    "    \n",
    "\n",
    "        \n",
    "wrkData = # takes in an array of words in a sentence\n",
    "wrkLabels =  # takes in an array showing the result of each element\n",
    "#dictResults = naiveBayes(full_data,labels)\n",
    "dictResults,key = getClassConditional(wrkData,wrkLabels)\n",
    "print(dictResults)"
   ]
  },
  {
   "cell_type": "code",
   "execution_count": 173,
   "metadata": {
    "tags": []
   },
   "outputs": [
    {
     "name": "stdout",
     "output_type": "stream",
     "text": [
      "spam\n"
     ]
    }
   ],
   "source": [
    "def naiveBayesPredict(strLine,dictClassConditionalModel, dictProbLabels,keys):\n",
    "    \n",
    "    arrLine = strLine.split(' ')#split input string into words\n",
    "    \n",
    "    #initialize the encoding dictionary\n",
    "    #------------------------------------------------------------------------------------------\n",
    "    #print(dictClassConditionalModel['#key#'])\n",
    "    #keys = dictClassConditionalModel.pop(\"#key#\")\n",
    " \n",
    "\n",
    "    dictEncode = {}\n",
    "    for x in dictClassConditionalModel:\n",
    "        dictEncode[x] = 0\n",
    "    #-----------------------------------------------------------------------------------------   \n",
    "    \n",
    "   #count occurances of word to set encoding\n",
    "   #-----------------------------------------------------------------------------\n",
    "    for strY in arrLine:\n",
    "        dictEncode[strY.lower()] +=1\n",
    "  #  print(dictEncode)\n",
    "    #----------------------------------------------------------------------------------------\n",
    "       \n",
    "            \n",
    "    \n",
    "    #caluculate P(strLine,dictClassConditionalModel)\n",
    "    #------------------------------------------------------------------------------------------\n",
    "    dictProbabilitiesXY = {}\n",
    "    for x in keys:\n",
    "        dictProbabilitiesXY[x] = 1\n",
    "        for word in dictEncode:\n",
    "            if (dictEncode[word] == 0):\n",
    "                dictProbabilitiesXY[x] *= (1 - dictClassConditionalModel[word][keys.index(x)])\n",
    "            else:\n",
    "                dictProbabilitiesXY[x] *=  dictClassConditionalModel[word][keys.index(x)]\n",
    "       \n",
    "                \n",
    "    #--------------------------------------------------------------------------------------------\n",
    "    \n",
    "    #calculate final probability\n",
    "    #--------------------------------------------------------------------------\n",
    "    dictProbabilitiesYX = {}\n",
    "    for x in keys:\n",
    "\n",
    "        denominator = 0\n",
    "        for y in keys:\n",
    "            denominator += dictProbabilitiesXY[y] * dictProbLabels[y]\n",
    "            \n",
    "        dictProbabilitiesYX[x] = dictProbabilitiesXY[x] * (dictProbLabels[x] / denominator)\n",
    "    \n",
    "    maxKey = \"\"\n",
    "    maxValue = 0\n",
    "    for key, value in dictProbabilitiesYX.items():\n",
    "        if (value > maxValue):\n",
    "            maxValue = value\n",
    "            maxKey = key\n",
    "    return maxKey\n",
    "\n",
    "    \n",
    "wrkData =  # works as in the previous functions\n",
    "wrkLabels = #works as previous functions\n",
    "dictResults,key = getClassConditional(wrkData,wrkLabels)\n",
    "dictProbLabels = getProbabilities(wrkLabels)\n",
    "strLine = # now you can encoperate the testing string\n",
    "\n",
    "strPrediction = naiveBayesPredict(strLine,dictResults,dictProbLabels,key)\n",
    "print(strPrediction)"
   ]
  },
  {
   "cell_type": "code",
   "execution_count": 174,
   "metadata": {
    "tags": []
   },
   "outputs": [
    {
     "name": "stdout",
     "output_type": "stream",
     "text": [
      "the service and the food was terrible\n",
      "we had a terrible experience\n"
     ]
    },
    {
     "ename": "KeyError",
     "evalue": "'we'",
     "output_type": "error",
     "traceback": [
      "\u001b[1;31m---------------------------------------------------------------------------\u001b[0m",
      "\u001b[1;31mKeyError\u001b[0m                                  Traceback (most recent call last)",
      "\u001b[1;32m<ipython-input-174-406b7b8a2739>\u001b[0m in \u001b[0;36m<module>\u001b[1;34m\u001b[0m\n\u001b[0;32m     18\u001b[0m     \u001b[0mstrLine\u001b[0m \u001b[1;33m=\u001b[0m \u001b[1;34m\" \"\u001b[0m\u001b[1;33m.\u001b[0m\u001b[0mjoin\u001b[0m\u001b[1;33m(\u001b[0m\u001b[0marrLine\u001b[0m\u001b[1;33m)\u001b[0m\u001b[1;33m\u001b[0m\u001b[1;33m\u001b[0m\u001b[0m\n\u001b[0;32m     19\u001b[0m     \u001b[0mprint\u001b[0m\u001b[1;33m(\u001b[0m\u001b[0mstrLine\u001b[0m\u001b[1;33m)\u001b[0m\u001b[1;33m\u001b[0m\u001b[1;33m\u001b[0m\u001b[0m\n\u001b[1;32m---> 20\u001b[1;33m     \u001b[0mdictTestResults\u001b[0m\u001b[1;33m[\u001b[0m\u001b[0mstrLine\u001b[0m\u001b[1;33m]\u001b[0m \u001b[1;33m=\u001b[0m \u001b[0mnaiveBayesPredict\u001b[0m\u001b[1;33m(\u001b[0m\u001b[0mstrLine\u001b[0m\u001b[1;33m,\u001b[0m\u001b[0mdictClassConditionalModel\u001b[0m\u001b[1;33m,\u001b[0m\u001b[0mdictProbLabels\u001b[0m\u001b[1;33m,\u001b[0m\u001b[0marrKeyClassConditionalModel\u001b[0m\u001b[1;33m)\u001b[0m\u001b[1;33m\u001b[0m\u001b[1;33m\u001b[0m\u001b[0m\n\u001b[0m\u001b[0;32m     21\u001b[0m \u001b[1;33m\u001b[0m\u001b[0m\n\u001b[0;32m     22\u001b[0m \u001b[0mprint\u001b[0m\u001b[1;33m(\u001b[0m\u001b[0mdictTestResults\u001b[0m\u001b[1;33m)\u001b[0m\u001b[1;33m\u001b[0m\u001b[1;33m\u001b[0m\u001b[0m\n",
      "\u001b[1;32m<ipython-input-173-40abe50ecd0c>\u001b[0m in \u001b[0;36mnaiveBayesPredict\u001b[1;34m(strLine, dictClassConditionalModel, dictProbLabels, keys)\u001b[0m\n\u001b[0;32m     17\u001b[0m    \u001b[1;31m#-----------------------------------------------------------------------------\u001b[0m\u001b[1;33m\u001b[0m\u001b[1;33m\u001b[0m\u001b[1;33m\u001b[0m\u001b[0m\n\u001b[0;32m     18\u001b[0m     \u001b[1;32mfor\u001b[0m \u001b[0mstrY\u001b[0m \u001b[1;32min\u001b[0m \u001b[0marrLine\u001b[0m\u001b[1;33m:\u001b[0m\u001b[1;33m\u001b[0m\u001b[1;33m\u001b[0m\u001b[0m\n\u001b[1;32m---> 19\u001b[1;33m         \u001b[0mdictEncode\u001b[0m\u001b[1;33m[\u001b[0m\u001b[0mstrY\u001b[0m\u001b[1;33m.\u001b[0m\u001b[0mlower\u001b[0m\u001b[1;33m(\u001b[0m\u001b[1;33m)\u001b[0m\u001b[1;33m]\u001b[0m \u001b[1;33m+=\u001b[0m\u001b[1;36m1\u001b[0m\u001b[1;33m\u001b[0m\u001b[1;33m\u001b[0m\u001b[0m\n\u001b[0m\u001b[0;32m     20\u001b[0m   \u001b[1;31m#  print(dictEncode)\u001b[0m\u001b[1;33m\u001b[0m\u001b[1;33m\u001b[0m\u001b[1;33m\u001b[0m\u001b[0m\n\u001b[0;32m     21\u001b[0m     \u001b[1;31m#----------------------------------------------------------------------------------------\u001b[0m\u001b[1;33m\u001b[0m\u001b[1;33m\u001b[0m\u001b[1;33m\u001b[0m\u001b[0m\n",
      "\u001b[1;31mKeyError\u001b[0m: 'we'"
     ]
    }
   ],
   "source": [
    " \n",
    "full_data.pop(3)\n",
    "intEnd = len(full_data)\n",
    "trainEnd = intEnd-5\n",
    "training_data = full_data[0:trainEnd]\n",
    "training_labels = labels[0:trainEnd]\n",
    "dictClassConditionalModel,arrKeyClassConditionalModel = getClassConditional(training_data,training_labels)\n",
    "dictProbLabels = getProbabilities(training_labels)\n",
    "\n",
    "test_data = full_data[trainEnd:intEnd]\n",
    "test_labels = labels[trainEnd:intEnd]\n",
    "\n",
    "\n",
    "#for x in dictClassConditionalModel:\n",
    " #   print(x)\n",
    "\n",
    "dictTestResults = {}\n",
    "for arrLine in test_data:\n",
    "    strLine = \" \".join(arrLine)\n",
    "    print(strLine)\n",
    "    dictTestResults[strLine] = naiveBayesPredict(strLine,dictClassConditionalModel,dictProbLabels,arrKeyClassConditionalModel)\n",
    "\n",
    "print(dictTestResults)"
   ]
  },
  {
   "cell_type": "code",
   "execution_count": 2,
   "metadata": {
    "tags": []
   },
   "outputs": [
    {
     "ename": "SyntaxError",
     "evalue": "invalid syntax (<ipython-input-2-3e90ee9cc23f>, line 1)",
     "output_type": "error",
     "traceback": [
      "\u001b[1;36m  File \u001b[1;32m\"<ipython-input-2-3e90ee9cc23f>\"\u001b[1;36m, line \u001b[1;32m1\u001b[0m\n\u001b[1;33m    wrkData = #put your own\u001b[0m\n\u001b[1;37m                           ^\u001b[0m\n\u001b[1;31mSyntaxError\u001b[0m\u001b[1;31m:\u001b[0m invalid syntax\n"
     ]
    }
   ],
   "source": [
    "wrkData = #put your own\n",
    "wrkLabels = #put your own\n",
    "dictResults,key = getClassConditional(wrkData,wrkLabels)\n",
    "dictProbLabels = getProbabilities(wrkLabels)\n",
    "strLine = #put your own\n",
    "\n",
    "strPrediction = naiveBayesPredict(strLine,dictResults,dictProbLabels,key)\n",
    "print(strPrediction)"
   ]
  },
  {
   "cell_type": "code",
   "execution_count": null,
   "metadata": {},
   "outputs": [],
   "source": []
  },
  {
   "cell_type": "code",
   "execution_count": null,
   "metadata": {},
   "outputs": [],
   "source": []
  },
  {
   "cell_type": "code",
   "execution_count": 161,
   "metadata": {
    "tags": []
   },
   "outputs": [],
   "source": [
    "#8x8 representation for question 2\n",
    "import csv\n",
    "import math\n",
    "import random\n",
    "\n",
    "#Handle data\n",
    "def loadCsv(filename):\n",
    "    lines = csv.reader(open(filename, \"r\"))\n",
    "    dataset = list(lines)\n",
    "    \n",
    "    intLengthDataLine = len(dataset[0])-1\n",
    "    labels = np.zeros(len(dataset))\n",
    "    newdata = np.zeros((len(dataset),8,8))\n",
    "    \n",
    "    for i in range(len(dataset)):\n",
    "        newdata[i] = np.reshape( np.array(dataset[i][0:intLengthDataLine],dtype=object), (8,8))\n",
    "        labels[i] = dataset[i][intLengthDataLine]\n",
    "\n",
    "    return (newdata,labels)\n",
    "\n",
    "data,labels = loadCsv(#load whatever file you need )\n",
    "\n"
   ]
  },
  {
   "cell_type": "code",
   "execution_count": 186,
   "metadata": {},
   "outputs": [
    {
     "name": "stdout",
     "output_type": "stream",
     "text": [
      "accuracy 0.8272980501392758\n",
      "[[ 0.  1.  2.  3.  4.  5.  6.  7.  8.  9.  0.]\n",
      " [ 1. 33.  0.  0.  0.  0.  0.  0.  0.  0.  0.]\n",
      " [ 2.  0. 21.  0.  3.  0.  0.  3.  0.  3.  1.]\n",
      " [ 3.  0.  0. 33.  1.  0.  0.  0.  0.  0.  0.]\n",
      " [ 4.  0.  0.  1. 25.  0.  0.  0.  0.  0.  3.]\n",
      " [ 5.  1.  0.  0.  0. 33.  1.  0.  0.  0.  0.]\n",
      " [ 6.  0.  0.  0.  2.  0. 33.  0.  0.  1.  2.]\n",
      " [ 7.  0.  0.  0.  0.  0.  0. 34.  0.  0.  0.]\n",
      " [ 8.  0.  1.  0.  3.  2.  0.  0. 35.  2.  3.]\n",
      " [ 9.  1.  7.  0.  2.  2.  0.  0.  1. 22.  0.]\n",
      " [ 0.  0.  7.  0.  1.  0.  3.  0.  0.  5. 28.]]\n"
     ]
    }
   ],
   "source": [
    "\n",
    "import csv\n",
    "import math\n",
    "import random\n",
    "\n",
    "#Handle data\n",
    "def loadCsv(filename):\n",
    "    lines = csv.reader(open(filename, \"r\"))\n",
    "    dataset = list(lines)\n",
    "    \n",
    "    intLengthDataLine = len(dataset[0])-1\n",
    "    labels = np.zeros(len(dataset))\n",
    "    newdata = np.zeros((len(dataset),64))\n",
    "    for i in range(len(dataset)):\n",
    "        newdata[i] = np.array(dataset[i][0:intLengthDataLine],dtype=object)\n",
    "        labels[i] = dataset[i][intLengthDataLine]\n",
    "\n",
    "    return (newdata,labels)\n",
    "\n",
    "\n",
    "def main():\n",
    "    data,labels = loadCsv(#whatever file )\n",
    "    #--------------convert to string index format\n",
    "    intDataSize = len(data)\n",
    "    intLineSize = len(data[0])\n",
    "    arrIndexes = [[\"\"]] *intDataSize\n",
    "    for i in range(intDataSize):\n",
    "        arrLine = []\n",
    "        for j in range(len(data[0])):\n",
    "            if (data[i][j] == 1.0):\n",
    "                arrLine.append(str(j))\n",
    "        arrIndexes[i] = arrLine\n",
    "    \n",
    "    dictResults,key = getClassConditional(arrIndexes[0:1437],labels[0:1437])\n",
    "    dictProbLabels = getProbabilities(labels[0:1437])\n",
    "    \n",
    "    test_data = arrIndexes[1438:1797]\n",
    "    test_labels = labels[1438:1797]\n",
    "    \n",
    "    \n",
    "    confusionMatrix = np.zeros((11,11))\n",
    "    for i in range(0,len(key),1):\n",
    "        confusionMatrix[0,i] =key[i]\n",
    "        confusionMatrix[i,0] = key[i]\n",
    "    zipTestData = zip(test_data,test_labels)\n",
    "    intSumTrue = 0;\n",
    "    intSumTotal = 0;\n",
    "    for x,y in zipTestData:\n",
    "        strLine = \" \".join(x)\n",
    "        prediction = naiveBayesPredict(strLine,dictResults,dictProbLabels,key)\n",
    "        \n",
    "        if (prediction == y):\n",
    "            intSumTrue += 1\n",
    "        else:\n",
    "            line = np.zeros(64)\n",
    "            for i in x:\n",
    "                line[int(i)] = 1\n",
    "                \n",
    "        intSumTotal += 1\n",
    "        confusionMatrix[int(prediction)+1,int(y)+1] += 1\n",
    "    \n",
    "    print(\"accuracy \" +str(intSumTrue/intSumTotal))\n",
    "    print(confusionMatrix)\n",
    "    \n",
    "            \n",
    "main()\n",
    "        "
   ]
  },
  {
   "cell_type": "code",
   "execution_count": 131,
   "metadata": {},
   "outputs": [
    {
     "name": "stdout",
     "output_type": "stream",
     "text": [
      "[1, 2, 5, 4]\n"
     ]
    }
   ],
   "source": [
    "arr = [1,2,5,4]\n",
    "\n",
    "print(arr[0:4])"
   ]
  },
  {
   "cell_type": "code",
   "execution_count": null,
   "metadata": {},
   "outputs": [],
   "source": []
  }
 ],
 "metadata": {
  "kernelspec": {
   "display_name": "Python 3",
   "language": "python",
   "name": "python3"
  },
  "language_info": {
   "codemirror_mode": {
    "name": "ipython",
    "version": 3
   },
   "file_extension": ".py",
   "mimetype": "text/x-python",
   "name": "python",
   "nbconvert_exporter": "python",
   "pygments_lexer": "ipython3",
   "version": "3.6.5"
  }
 },
 "nbformat": 4,
 "nbformat_minor": 5
}
